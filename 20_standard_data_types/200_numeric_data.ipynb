{
 "cells": [
  {
   "cell_type": "markdown",
   "metadata": {},
   "source": [
    "> ### Vérification de la configuration\n",
    "> Vérifiez que Python et les tests fonctionnent correctement en exécutant les deux cellules ci-dessous."
   ]
  },
  {
   "cell_type": "code",
   "execution_count": null,
   "metadata": {},
   "outputs": [],
   "source": [
    "print(\"✅ Python works!\")\n",
    "from sys import version\n",
    "print(version)"
   ]
  },
  {
   "cell_type": "code",
   "execution_count": null,
   "metadata": {},
   "outputs": [],
   "source": [
    "import ipytest\n",
    "ipytest.autoconfig()\n",
    "ipytest.clean()\n",
    "def test_all_good():\n",
    "    assert \"🐍\" == \"🐍\"\n",
    "ipytest.run()"
   ]
  },
  {
   "cell_type": "markdown",
   "metadata": {},
   "source": [
    "# Les données numériques standard en python\n",
    "\n",
    "> **Class: `int` ou `float`**\n",
    "\n",
    "## Les int et les float\n",
    "\n",
    "On différencie en python les données numériques en deux types :\n",
    "- les entiers (integers) : `-2`, `-1`, `0`, `1`, `2`, ...\n",
    "- les nombres à virgule flottante (floats) : `-1.0`, `0.0`, `1.0`, `2.0`, `2.5`, `3.14`\n",
    "\n",
    "> **ℹ️** : La décimale d'un float est séparée par un point `.` (et non une virgule).\n",
    "\n",
    "> **⚠️** : Les nombres à virgule flottante sont des approximations des nombres réels. Par exemple, `0.1 + 0.2` n'est pas exactement égal à `0.3` en python.\n",
    "```python\n",
    "print(1 + 2 == 3) # True\n",
    "print(0.1 + 0.2 == 0.3) # False 🤷‍♂️\n",
    "```\n",
    "\n",
    "## Les opérations sur les données numériques\n",
    "\n",
    "Les opérations arithmétiques de base sont :\n",
    "- l'addition `+`\n",
    "- la soustraction `-`\n",
    "- la multiplication `*`\n",
    "- la division `/`\n",
    "- la division entière `//` (le quotient de la division euclidienne)\n",
    "- le modulo `%` (le reste de la division euclidienne)\n",
    "- la puissance `**`\n",
    "\n",
    "Exemples :\n",
    "```python\n",
    "print(2 + 2) # 4\n",
    "print(2 - 1.0) # 1.0\n",
    "print(2 * 3) # 6\n",
    "print(2 / 3) # 0.6666666666666666\n",
    "print(13 // 3) # 4 (division entière: 13 = 3 * 4 + 1)\n",
    "print(13 % 3) # 1 (reste de la division entière)\n",
    "print(2 ** 3) # 8 (puissance)\n",
    "print(2 ** 0.5) # 1.4142135623730951 (racine carrée)\n",
    "print(2 ** -1) # 0.5 (inverse)\n",
    "```\n",
    "\n",
    "> **Note** : Une opération entre deux entiers renvoie un entier sauf pour la division `/` qui renvoie un float.\n",
    "\n",
    "> **Note** : Une opération entre un entier et un float renvoie un float.\n",
    "```python\n",
    "print(type(1 + 2)) # int\n",
    "print(type(1 + 2.0)) # float\n",
    "print(type(2 / 3)) # float\n",
    "print(type(4 / 2)) # float\n",
    "```\n",
    "\n",
    "> **Note** : Une division par zéro lève une erreur `ZeroDivisionError`. Nous verrons ultérieurement comment gérer les exceptions. D'ici là, évitez les divisions par zéro, car elles arrêtent l'exécution du programme.\n",
    "```python\n",
    "print(1 / 0) # ZeroDivisionError: division by zero\n",
    "# la suite ne sera pas exécutée\n",
    "```"
   ]
  },
  {
   "cell_type": "code",
   "execution_count": null,
   "metadata": {},
   "outputs": [],
   "source": [
    "# 👨‍💻 Sandbox: sentez-vous libre de tester les lignes ci-dessus pour vous assurer des résultats ou d'écrire d'autres opérations pour mieux comprendre le fonctionnement de Python.\n"
   ]
  },
  {
   "cell_type": "markdown",
   "metadata": {},
   "source": [
    "## Les fonctions mathématiques\n",
    "\n",
    "Python possède un module `math` qui contient de nombreuses fonctions mathématiques :\n",
    "- `math.sqrt(x)` : racine carrée de `x`\n",
    "- `math.pow(x, y)` : `x` à la puissance `y`\n",
    "- `math.exp(x)` : exponentielle de `x`\n",
    "- `math.log(x)` : logarithme népérien de `x`\n",
    "- `math.log(x, base)` : logarithme en base `base` de `x`\n",
    "\n",
    "> **⚠️** : Pour utiliser les fonctions du module `math`, il faut les importer au début du script.\n",
    "> Pour importer un module, on utilise le mot clé `import` suivi du nom du module.\n",
    "> En l'occurrence ici, on importe le module `math` avec la commande `import math`:\n",
    "\n",
    "```python\n",
    "import math\n",
    "\n",
    "print(math.sqrt(2)) # 1.4142135623730951\n",
    "print(math.pow(2, 3)) # 8.0\n",
    "print(math.exp(1)) # 2.718281828459045\n",
    "print(math.log(10)) # 2.302585092994046\n",
    "print(math.log(10, 10)) # 1.0\n",
    "print(math.log(100000, 10)) # 5.0\n",
    "```\n",
    "\n",
    "## Exercices\n",
    "\n",
    "1. Écrivez une fonction `hypotenuse(a, b)` qui renvoie l'hypoténuse d'un triangle rectangle de côtés `a` et `b`. (Rappel : l'hypoténuse `c` d'un triangle rectangle est donnée par le théorème de Pythagore : `a² + b² = c²`)\n",
    "2. Écrivez une fonction `cumulative_interest(capital, percentage_rate, years)` qui renvoie les intérêts cumulé après `years` années avec un taux d'intérêt annuel de `percentage_rate` (en pourcentage). (les intérêts sont versés à la fin de chaque année)"
   ]
  },
  {
   "cell_type": "code",
   "execution_count": 18,
   "metadata": {},
   "outputs": [],
   "source": [
    "# 1. Écrivez une fonction `hypotenuse(a, b)` qui renvoie l'hypoténuse d'un triangle rectangle de côtés `a` et `b`. (Rappel : l'hypoténuse `c` d'un triangle rectangle est donnée par le théorème de Pythagore : `a² + b² = c²`)\n"
   ]
  },
  {
   "cell_type": "code",
   "execution_count": null,
   "metadata": {},
   "outputs": [],
   "source": [
    "# 🧪\n",
    "ipytest.clean()\n",
    "def test_hypotenuse():\n",
    "    assert hypotenuse(3, 4) == 5\n",
    "    assert hypotenuse(5, 12) == 13\n",
    "    assert hypotenuse(7, 24) == 25\n",
    "ipytest.run()"
   ]
  },
  {
   "cell_type": "code",
   "execution_count": 21,
   "metadata": {},
   "outputs": [],
   "source": [
    "# 2. Écrivez une fonction `cumulative_interest(capital, percentage_rate, years)` qui renvoie les intérêts cumulé après `years` années avec un taux d'intérêt annuel de `percentage_rate` (en pourcentage).\n"
   ]
  },
  {
   "cell_type": "code",
   "execution_count": null,
   "metadata": {},
   "outputs": [],
   "source": [
    "# 🧪\n",
    "import math\n",
    "ipytest.clean()\n",
    "def test_cumulative_interest():\n",
    "    assert cumulative_interest(1000, 5, 1) == 50\n",
    "    assert cumulative_interest(1000, 5, 2) == 102.5\n",
    "    assert math.isclose(cumulative_interest(1000, 5, 3), 157.625, rel_tol=1e-9)\n",
    "ipytest.run()"
   ]
  }
 ],
 "metadata": {
  "kernelspec": {
   "display_name": "Python 3",
   "language": "python",
   "name": "python3"
  },
  "language_info": {
   "codemirror_mode": {
    "name": "ipython",
    "version": 3
   },
   "file_extension": ".py",
   "mimetype": "text/x-python",
   "name": "python",
   "nbconvert_exporter": "python",
   "pygments_lexer": "ipython3",
   "version": "3.11.5"
  }
 },
 "nbformat": 4,
 "nbformat_minor": 2
}
