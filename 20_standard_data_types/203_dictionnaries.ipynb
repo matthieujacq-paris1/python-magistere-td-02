{
 "cells": [
  {
   "cell_type": "markdown",
   "metadata": {},
   "source": [
    "> ### Vérification de la configuration\n",
    "> Vérifiez que Python et les tests fonctionnent correctement en exécutant les deux cellules ci-dessous."
   ]
  },
  {
   "cell_type": "code",
   "execution_count": null,
   "metadata": {},
   "outputs": [],
   "source": [
    "print(\"✅ Python works!\")\n",
    "from sys import version\n",
    "print(version)"
   ]
  },
  {
   "cell_type": "code",
   "execution_count": null,
   "metadata": {},
   "outputs": [],
   "source": [
    "import ipytest\n",
    "ipytest.autoconfig()\n",
    "ipytest.clean()\n",
    "def test_all_good():\n",
    "    assert \"🐍\" == \"🐍\"\n",
    "ipytest.run()"
   ]
  },
  {
   "cell_type": "markdown",
   "metadata": {},
   "source": [
    "# Les dictionnaires en Python\n",
    "\n",
    "> **Class: `dict`**\n",
    "\n",
    "Un dictionnaire est une collection d'éléments non ordonnés, modifiables et indexés. En Python, les dictionnaires sont écrits avec des accolades et ont des clés et des valeurs.\n",
    "Un dictinnaire est défini par :\n",
    "- des accolades `{}` au début et à la fin\n",
    "- les éléments sont séparés par des virgules `,` \n",
    "- chaque élément est une paire clé-valeur séparée par deux points `:`\n",
    "- les clés doivent être uniques\n",
    "- les clés sont immuables (ex: chaînes, nombres) -> En pratique, les clés sont souvent des chaînes (str).\n",
    "- les valeurs peuvent être de n'importe quel type\n",
    "\n",
    "```python\n",
    "car = {\n",
    "  \"brand\": \"Ford\",\n",
    "  \"model\": \"Mustang\",\n",
    "  \"year\": 1964\n",
    "}\n",
    "```\n",
    "\n",
    "Les éléments du dictionnaire sont accessibles et modifiables en utilisant les clés.\n",
    "\n",
    "```python\n",
    "print(car[\"model\"]) # Mustang\n",
    "\n",
    "car[\"model\"] = \"Fiesta\"\n",
    "print(car[\"model\"]) # Fiesta\n",
    "```\n",
    "\n",
    "Les dictionnaires peuvent contenir des éléments de différents types.\n",
    "\n",
    "```python\n",
    "person = {\n",
    "  \"name\": \"John\",\n",
    "  \"age\": 36,\n",
    "  \"married\": True,\n",
    "  \"pets\": [\"Dog\", \"Cat\"]\n",
    "}\n",
    "```\n",
    "\n",
    "> **Note**: Pour créer un dictionnaire vide, on peut utiliser des accolades vides `{}`.\n",
    "\n",
    "## Opérations sur les dictionnaires\n",
    "\n",
    "Soit un dictionnaire `d` :\n",
    "\n",
    "- `[]` :\n",
    "    - `d[key]` : retourne la valeur associée à la clé `key` dans le dictionnaire `d`. Si la clé `key` n'est pas présente dans le dictionnaire `d`, une erreur est levée.\n",
    "    - `d[key] = value` : ajoute une nouvelle paire clé-valeur dans le dictionnaire `d`\n",
    "- `in` :\n",
    "    - `key in d` : retourne `True` si la clé `key` est présente dans le dictionnaire `d`\n",
    "    - `key not in d:` : retourne `True` si la clé `key` n'est pas présente dans le dictionnaire `d`\n",
    "    - `for key in d:` : itère sur les clés du dictionnaire `d`\n",
    "    - `for key, value in d.items():` : itère sur les paires clé-valeur du dictionnaire `d`\n",
    "- `del d[key]` : supprime la paire clé-valeur associée à la clé `key` du dictionnaire `d`\n",
    "\n",
    "Exemple :\n",
    "\n",
    "```python\n",
    "car = {\n",
    "  \"brand\": \"Ford\",\n",
    "  \"model\": \"Mustang\",\n",
    "  \"year\": 1964\n",
    "}\n",
    "\n",
    "print(\"brand\" in car) # True\n",
    "print(car[\"brand\"]) # Ford\n",
    "print(\"color\" in car) # False\n",
    "# print(car[\"color\"]) # KeyError: 'color' -> arrêt du programme\n",
    "print(\"Ford\" in car) # False -> recherche dans les clés, pas dans les valeurs\n",
    "\n",
    "for key in car:\n",
    "    print(key, car[key])\n",
    "# brand Ford\n",
    "# model Mustang\n",
    "# year 1964\n",
    "\n",
    "for key, value in car.items():\n",
    "    print(key, value)\n",
    "# brand Ford\n",
    "# model Mustang\n",
    "# year 1964\n",
    "\n",
    "\n",
    "del car[\"model\"]\n",
    "print(car) # {'brand': 'Ford', 'year': 1964}\n",
    "```\n",
    "\n",
    "\n",
    "## Méthodes des dictionnaires\n",
    "\n",
    "Parmi les méthodes les plus couramment utilisées pour les dictionnaires :\n",
    "\n",
    "- `d.get(key, default)` : retourne la valeur associée à la clé `key` dans le dictionnaire `d` ou la valeur `default` si la clé `key` n'est pas présente dans le dictionnaire `d`.\n",
    "  - Ex: `car.get(\"model\", \"Fiesta\")` retourne la valeur associée à la clé \"model\" ou \"Fiesta\" si la clé \"model\" n'est pas présente.\n",
    "  - Utilisation de `get` plutôt que `[]` pour éviter les erreurs si la clé n'est pas présente.\n",
    "- `d.update(d2)` : met à jour le dictionnaire `d` avec les éléments du dictionnaire `d2`. Si les deux dictionnaires ont des clés en commun, les valeurs du deuxième dictionnaire écrasent celles du premier dictionnaire.\n",
    "- `d.copy()` : retourne une copie du dictionnaire `d`\n",
    "\n",
    "> Facultatif :\n",
    "> - `d.clear()` : supprime tous les éléments du dictionnaire `d`\n",
    "\n",
    "Exemple :\n",
    "\n",
    "```python\n",
    "car = {\n",
    "  \"brand\": \"Ford\",\n",
    "  \"model\": \"Mustang\",\n",
    "  \"year\": 1964\n",
    "}\n",
    "\n",
    "print(car.get(\"model\", \"Fiesta\")) # Mustang\n",
    "print(car.get(\"color\", \"Red\")) # Red\n",
    "\n",
    "new_properties = {\n",
    "    \"year\": 2020,\n",
    "    \"price\": 25000\n",
    "}\n",
    "car.update(new_properties)\n",
    "print(car) # {'brand': 'Ford', 'model': 'Mustang', 'year': 2020, 'price': 25000}\n",
    "```\n",
    "\n",
    "\n",
    "## Fonctions intégrées pour les dictionnaires\n",
    "\n",
    "- `len(d)` : retourne le nombre d'éléments dans le dictionnaire `d`\n",
    "\n",
    "Exemple :\n",
    "\n",
    "```python\n",
    "car = {}\n",
    "print(car) # {}\n",
    "print(len(car)) # 0\n",
    "car[\"brand\"] = \"Ford\"\n",
    "print(car) # {'brand': 'Ford'}\n",
    "print(len(car)) # 1\n",
    "```\n",
    "\n",
    "## Exercices\n",
    "\n",
    "1. Créez une fonction `create_customer` qui prend en paramètres une liste contenant les informations suivantes sur un client : nom, prénom, âge, ville. La fonction doit retourner un dictionnaire contenant ces informations, avec les clés \"last_name\", \"first_name\", \"age\" et \"city\".\n",
    "2. Créez une fonction `is_adult` qui prend en paramètre un dictionnaire représentant un client (dictionnaires avec les clés \"last_name\", \"first_name\", \"age\" et \"city\") et retourne `True` si le client est majeur (âge >= 18), `False` sinon.\n",
    "3. Créez une fonction `is_customer` qui prend un paramètre de type quelconque et retourne `True` si le paramètre est un dictionnaire représentant un client (dictionnaires avec les clés \"last_name\", \"first_name\", \"age\" et \"city\"), `False` sinon. (Bien penser à vérifier le type en premier que le paramètre est un dictionnaire, ensuite vérifier les clés du dictionnaire)\n",
    "4. Créez une fonction `format_customer` qui prend en paramètre un dictionnaire représentant un client (clés \"last_name\", \"first_name\", \"age\" et \"city\") et retourne les informations du client sous la forme \"Nom Prénom, âge ans, habite à Ville\". Si la majuscule est manquante pour le nom, le prénom ou la ville, ajoutez-la.\n",
    "5. Créez une fonction `find_customer` qui prend en paramètres une liste de dictionnaires représentant des clients (dictionnaires avec les clés \"last_name\", \"first_name\", \"age\" et \"city\") et un nom de famille. La fonction doit retourner le premier client de la liste ayant le nom de famille donné. Si aucun client n'est trouvé, la fonction doit retourner `None`."
   ]
  },
  {
   "cell_type": "code",
   "execution_count": null,
   "metadata": {},
   "outputs": [],
   "source": [
    "# sandbox\n"
   ]
  },
  {
   "cell_type": "code",
   "execution_count": 11,
   "metadata": {},
   "outputs": [],
   "source": [
    "# 1. Créez une fonction `create_customer` qui prend en paramètres une liste contenant les informations suivantes sur un client : nom, prénom, âge, ville. La fonction doit retourner un dictionnaire contenant ces informations, avec les clés \"last_name\", \"first_name\", \"age\" et \"city\".\n"
   ]
  },
  {
   "cell_type": "code",
   "execution_count": null,
   "metadata": {},
   "outputs": [],
   "source": [
    "# 🧪\n",
    "ipytest.clean()\n",
    "def test_create_customer():\n",
    "    assert create_customer([\"Doe\", \"John\", 42, \"New York\"]) == {\n",
    "        \"last_name\": \"Doe\",\n",
    "        \"first_name\": \"John\",\n",
    "        \"age\": 42,\n",
    "        \"city\": \"New York\"\n",
    "    }\n",
    "    assert create_customer([\"Doe\", \"Jane\", 35, \"Los Angeles\"]) == {\n",
    "        \"last_name\": \"Doe\",\n",
    "        \"first_name\": \"Jane\",\n",
    "        \"age\": 35,\n",
    "        \"city\": \"Los Angeles\"\n",
    "    }\n",
    "ipytest.run()"
   ]
  },
  {
   "cell_type": "code",
   "execution_count": 16,
   "metadata": {},
   "outputs": [],
   "source": [
    "# 2. Créez une fonction `is_adult` qui prend en paramètre un dictionnaire représentant un client (dictionnaires avec les clés \"last_name\", \"first_name\", \"age\" et \"city\") et retourne `True` si le client est majeur (âge >= 18), `False` sinon.\n"
   ]
  },
  {
   "cell_type": "code",
   "execution_count": null,
   "metadata": {},
   "outputs": [],
   "source": [
    "# 🧪\n",
    "ipytest.clean()\n",
    "def test_is_adult():\n",
    "    assert is_adult({\"last_name\": \"Doe\", \"first_name\": \"John\", \"age\": 42, \"city\": \"New York\"}) == True\n",
    "    assert is_adult({\"last_name\": \"Doe\", \"first_name\": \"Jane\", \"age\": 35, \"city\": \"Los Angeles\"}) == True\n",
    "    assert is_adult({\"last_name\": \"Doe\", \"first_name\": \"Jane\", \"age\": 17, \"city\": \"Los Angeles\"}) == False\n",
    "    assert is_adult({\"last_name\": \"Doe\", \"first_name\": \"Jane\", \"age\": 18, \"city\": \"Los Angeles\"}) == True\n",
    "ipytest.run()"
   ]
  },
  {
   "cell_type": "code",
   "execution_count": 20,
   "metadata": {},
   "outputs": [],
   "source": [
    "# 3. Créez une fonction `is_customer` qui prend un paramètre de type quelconque et retourne `True` si le paramètre est un dictionnaire représentant un client (dictionnaires avec les clés \"last_name\", \"first_name\", \"age\" et \"city\"), `False` sinon. (Bien penser à vérifier le type en premier que le paramètre est un dictionnaire, ensuite vérifier les clés du dictionnaire)\n"
   ]
  },
  {
   "cell_type": "code",
   "execution_count": null,
   "metadata": {},
   "outputs": [],
   "source": [
    "# 🧪\n",
    "ipytest.clean()\n",
    "def test_is_customer():\n",
    "    assert is_customer({\"last_name\": \"Doe\", \"first_name\": \"John\", \"age\": 42, \"city\": \"New York\"}) == True\n",
    "    assert is_customer({\"last_name\": \"Doe\", \"first_name\": \"Jane\", \"age\": 35, \"city\": \"Los Angeles\"}) == True\n",
    "    assert is_customer({\"last_name\": \"Doe\", \"first_name\": \"Jane\", \"age\": 17, \"city\": \"Los Angeles\"}) == True\n",
    "    assert is_customer({\"last_name\": \"Doe\", \"first_name\": \"Jane\", \"city\": \"Los Angeles\"}) == False\n",
    "    assert is_customer({\"last_name\": \"Doe\", \"first_name\": \"Jane\", \"age\": 18}) == False\n",
    "    assert is_customer({\"last_name\": \"Doe\", \"first_name\": \"Jane\", \"age\": 18, \"city\": \"Los Angeles\", \"extra\": \"extra\"}) == True\n",
    "    assert is_customer(\"Doe\") == False\n",
    "ipytest.run()"
   ]
  },
  {
   "cell_type": "code",
   "execution_count": 22,
   "metadata": {},
   "outputs": [],
   "source": [
    "# 4. Créez une fonction `format_customer` qui prend en paramètre un dictionnaire représentant un client (clés \"last_name\", \"first_name\", \"age\" et \"city\") et retourne les informations du client sous la forme \"Nom Prénom, âge ans, habite à Ville\". Si la majuscule est manquante pour le nom, le prénom ou la ville, ajoutez-la.\n"
   ]
  },
  {
   "cell_type": "code",
   "execution_count": null,
   "metadata": {},
   "outputs": [],
   "source": [
    "# 🧪\n",
    "ipytest.clean()\n",
    "def test_format_customer():\n",
    "    assert format_customer({\"last_name\": \"Doe\", \"first_name\": \"John\", \"age\": 42, \"city\": \"New York\"}) == \"Doe John, 42 ans, habite à New York\"\n",
    "    assert format_customer({\"last_name\": \"doe\", \"first_name\": \"jane\", \"age\": 35, \"city\": \"tokyo\"}) == \"Doe Jane, 35 ans, habite à Tokyo\"\n",
    "ipytest.run()\n"
   ]
  },
  {
   "cell_type": "code",
   "execution_count": 25,
   "metadata": {},
   "outputs": [],
   "source": [
    "# 5. Créez une fonction `find_customer` qui prend en paramètres une liste de dictionnaires représentant des clients (dictionnaires avec les clés \"last_name\", \"first_name\", \"age\" et \"city\") et un nom de famille. La fonction doit retourner le premier client de la liste ayant le nom de famille donné. Si aucun client n'est trouvé, la fonction doit retourner `None`.\n"
   ]
  },
  {
   "cell_type": "code",
   "execution_count": null,
   "metadata": {},
   "outputs": [],
   "source": [
    "ipytest.clean()\n",
    "def test_find_customer():\n",
    "    customers = [\n",
    "        {\"last_name\": \"Doedo\", \"first_name\": \"Johnny\", \"age\": 41, \"city\": \"New York\"},\n",
    "        {\"last_name\": \"Doe\", \"first_name\": \"John\", \"age\": 42, \"city\": \"New York\"},\n",
    "        {\"last_name\": \"Doe\", \"first_name\": \"Jane\", \"age\": 35, \"city\": \"Los Angeles\"},\n",
    "        {\"last_name\": \"Smith\", \"first_name\": \"Alice\", \"age\": 28, \"city\": \"Chicago\"}\n",
    "    ]\n",
    "    assert find_customer(customers, \"Doe\") == {\"last_name\": \"Doe\", \"first_name\": \"John\", \"age\": 42, \"city\": \"New York\"}\n",
    "    assert find_customer(customers, \"Smith\") == {\"last_name\": \"Smith\", \"first_name\": \"Alice\", \"age\": 28, \"city\": \"Chicago\"}\n",
    "    assert find_customer(customers, \"Brown\") == None\n",
    "ipytest.run()"
   ]
  }
 ],
 "metadata": {
  "kernelspec": {
   "display_name": "Python 3",
   "language": "python",
   "name": "python3"
  },
  "language_info": {
   "codemirror_mode": {
    "name": "ipython",
    "version": 3
   },
   "file_extension": ".py",
   "mimetype": "text/x-python",
   "name": "python",
   "nbconvert_exporter": "python",
   "pygments_lexer": "ipython3",
   "version": "3.11.5"
  }
 },
 "nbformat": 4,
 "nbformat_minor": 2
}
