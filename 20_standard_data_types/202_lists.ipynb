{
 "cells": [
  {
   "cell_type": "markdown",
   "metadata": {},
   "source": [
    "> ### Vérification de la configuration\n",
    "> Vérifiez que Python et les tests fonctionnent correctement en exécutant les deux cellules ci-dessous."
   ]
  },
  {
   "cell_type": "code",
   "execution_count": null,
   "metadata": {},
   "outputs": [],
   "source": [
    "print(\"✅ Python works!\")\n",
    "from sys import version\n",
    "print(version)"
   ]
  },
  {
   "cell_type": "code",
   "execution_count": null,
   "metadata": {},
   "outputs": [],
   "source": [
    "import ipytest\n",
    "ipytest.autoconfig()\n",
    "ipytest.clean()\n",
    "def test_all_good():\n",
    "    assert \"🐍\" == \"🐍\"\n",
    "ipytest.run()"
   ]
  },
  {
   "cell_type": "markdown",
   "metadata": {},
   "source": [
    "# Les listes en Python\n",
    "\n",
    "> **Class: `list`**\n",
    "\n",
    "Les listes sont des séquences d'éléments. Elles sont définies par des crochets `[]` et les éléments sont séparés par des virgules `,`. Les éléments d'une liste peuvent être de différents types. Les listes sont des objets mutables, c'est-à-dire que vous pouvez ajouter, supprimer ou modifier des éléments.\n",
    "\n",
    "```python\n",
    "# Créer une liste\n",
    "liste = [1, 2, 3, 4, 5]\n",
    "```\n",
    "\n",
    "> **Note**: Pour créer une liste vide, vous pouvez utiliser `liste = []`.\n",
    "\n",
    "## Opérations sur les listes\n",
    "\n",
    "En notant `liste` une liste, vous pouvez effectuer les opérations suivantes :\n",
    "\n",
    "- `liste[index]` : Accéder à un élément de la liste.\n",
    "    - L'indexation **commence à 0**.\n",
    "    - Vous pouvez également utiliser des indices négatifs pour accéder aux éléments en partant de la fin de la liste. Par exemple, `liste[0]` renvoie le premier élément et `liste[-1]` renvoie le dernier élément de la liste.\n",
    "    - `liste[index] = value` Vous pouvez modifier un élément de la liste en utilisant l'indexation. Par exemple, `liste[0] = 10` remplace le premier élément de la liste par 10.\n",
    "- `liste[start:end]` : Obtenir une tranche de la liste. Cela renvoie les éléments de `start` à `end-1`.\n",
    "    - Si vous ne spécifiez pas `start`, la tranche commence à l'index 0. ex: `liste[:3]` renvoie les trois premiers éléments de la liste.\n",
    "    - Si vous ne spécifiez pas `end`, la tranche va jusqu'à la fin de la liste. ex: `liste[2:]` renvoie les éléments de l'index 2 jusqu'à la fin de la liste.\n",
    "    - `liste[start:end:step]` : Vous pouvez également spécifier un pas.\n",
    "- `in`: \n",
    "    - `element in liste` : Vérifier si un élément est présent dans la liste.\n",
    "    - `element not in liste` : Vérifier si un élément n'est pas présent dans la liste.\n",
    "    - `liste1 in liste2` : Vérifier si tous les éléments de `liste1` sont présents dans `liste2`.\n",
    "    - `for element in liste:` : Parcourir tous les éléments de la liste.\n",
    "    - `for index, element in enumerate(liste):` : Parcourir tous les éléments de la liste avec leur index.\n",
    "- `liste + autre_liste` : Concaténer deux listes. Cela renvoie une nouvelle liste contenant tous les éléments de `liste` suivis de tous les éléments de `autre_liste`.\n",
    "- `del liste[index]` : Supprimer un élément de la liste. Cela lèvera une erreur si l'index est invalide.\n",
    "\n",
    "> Facultatif :\n",
    "> - `liste * n` : Répéter la liste `n` fois. Cela renvoie une nouvelle liste contenant tous les éléments de `liste`, répétés `n` fois.\n",
    "\n",
    "Exemples :\n",
    "\n",
    "```python\n",
    "liste = [1, 2, 3, 4, 5]\n",
    "print(liste[0])  # 1\n",
    "print(liste[-1])  # 5\n",
    "print(liste[:3])  # [1, 2, 3]\n",
    "print(3 in liste)  # True\n",
    "print(liste + [6, 7])  # [1, 2, 3, 4, 5, 6, 7]\n",
    "\n",
    "liste[0] = 10\n",
    "print(liste)  # [10, 2, 3, 4, 5]\n",
    "\n",
    "for index, element in enumerate(liste):\n",
    "    liste[index] = element * 2\n",
    "print(liste)  # [20, 4, 6, 8, 10]\n",
    "```\n",
    "\n",
    "\n",
    "## Méthodes de liste\n",
    "\n",
    "Les listes ont plusieurs méthodes intégrées pour effectuer des opérations sur elles. En notant `liste` une liste, vous pouvez effectuer les opérations suivantes :\n",
    "\n",
    "- `.insert(index, element)` : Insérer un élément à un index spécifique dans la liste.\n",
    "- `.append(element)` : Ajouter un élément à la fin de la liste.\n",
    "- `.remove(element)` : Supprimer la première occurrence d'un élément de la liste. Si l'élément n'est pas présent, il renvoie une erreur.\n",
    "- `.sort()` : Trier les éléments de la liste en place. Par défaut, il trie les éléments dans l'ordre croissant. Vous pouvez également spécifier `reverse=True` pour trier dans l'ordre décroissant.\n",
    "- `.copy()` : Copier la liste. Cela renvoie une nouvelle liste contenant tous les éléments de la liste d'origine.\n",
    "\n",
    "> Facultatif :\n",
    "> - `.count(element)` : Compter le nombre d'occurrences d'un élément dans la liste.\n",
    "> - `.index(element)` : Trouver l'index d'un élément dans la liste. Si l'élément est présent plusieurs fois, il renvoie l'index de la première occurrence. Si l'élément n'est pas présent, il renvoie une erreur.\n",
    "> - `.extend(autre_liste)` : Ajouter tous les éléments de `autre_liste` à la fin de la liste. (Cela modifie la liste d'origine, contrairement à l'opérateur `+`.)\n",
    "> - `.clear()` : Supprimer tous les éléments de la liste.\n",
    "> - `.reverse()` : Inverser les éléments de la liste.\n",
    "\n",
    "Exemples :\n",
    "\n",
    "```python\n",
    "liste = [\"b\", \"c\", \"e\"]\n",
    "liste.insert(0, \"a\")\n",
    "print(liste)  # [\"a\", \"b\", \"c\", \"e\"]\n",
    "\n",
    "liste.append(\"d\")\n",
    "print(liste)  # [\"a\", \"b\", \"c\", \"e\", \"d\"]\n",
    "\n",
    "del liste[1] # [\"a\", \"c\", \"e\", \"d\"]\n",
    "liste.remove(\"c\") # [\"a\", \"e\", \"d\"]\n",
    "\n",
    "liste.sort()\n",
    "print(liste)  # [\"a\", \"d\", \"e\"]\n",
    "liste.sort(reverse=True)\n",
    "print(liste)  # [\"e\", \"d\", \"a\"]\n",
    "```\n",
    "\n",
    "Il faut faire très attentation quand on fait des opérations sur des listes à savoir si l'on veut ou non modifier la liste d'origine.\n",
    "Illustration :\n",
    "\n",
    "```python\n",
    "liste1 = [1, 2, 3]\n",
    "liste2 = liste1\n",
    "liste2[0] = 10\n",
    "print(liste1)  # [10, 2, 3]\n",
    "\n",
    "liste1 = [1, 2, 3]\n",
    "liste2 = liste1.copy()\n",
    "liste2[0] = 10\n",
    "print(liste1)  # [1, 2, 3]\n",
    "```\n",
    "\n",
    "## Fonctions intégrées\n",
    "\n",
    "Python a plusieurs fonctions intégrées pour travailler avec des listes :\n",
    "- `len(liste)` : Obtenir la longueur de la liste.\n",
    "- `sum(liste)` : Calculer la somme de tous les éléments de la liste.\n",
    "- `max(liste)` : Trouver l'élément maximum de la liste.\n",
    "- `min(liste)` : Trouver l'élément minimum de la liste.\n",
    "- `sorted(liste)` : Trier les éléments de la liste. Cela renvoie une nouvelle liste triée sans modifier la liste d'origine.\n",
    "\n",
    "Exemples :\n",
    "\n",
    "```python\n",
    "liste = [1, 3, 2]\n",
    "print(sum(liste))  # 6\n",
    "print(max(liste))  # 3\n",
    "print(min(liste))  # 1\n",
    "```\n",
    "\n",
    "## Exercices\n",
    "\n",
    "1. Écrire une fonction `average` qui prend une liste d'entiers en entrée et renvoie la moyenne de ces entiers.\n",
    "2. Écrire une fonction `convert_to_net_wages` qui prend une liste de salaires bruts en entrée et renvoie une liste de salaires nets. Le salaire net est calculé en déduisant 23% du salaire brut.\n",
    "3. Écrire une fonction `remove_duplicates` qui prend une liste en entrée et renvoie une nouvelle liste sans éléments en double. L'ordre des éléments doit être conservé. La liste initiale ne doit pas être modifiée.\n",
    "4. Écrire une fonction `common_elements` qui prend deux listes en entrée et renvoie une liste contenant les éléments communs aux deux listes.\n",
    "5. Écrire une fonction `net_present_value(initial_investment, cashflows, rate)` qui calcule la valeur actuelle nette d'un projet. La valeur actuelle nette est calculée en soustrayant l'investissement initial de la somme des cashflows actualisés. Vous pouvez supposer que les cashflows sont donnés sous forme de liste (ex: `[800, 1200, 300]`) et que le taux d'actualisation est un nombre décimal (ex: `0.1` pour 10%). (ℹ️ La valeur actuelle nette est calculée comme suit : $NPV = \\sum_{i=1}^{n} \\frac{CF_i}{(1+r)^i} - I$ où $CF_i$ est le cashflow à l'année $i$, $r$ est le taux d'actualisation et $I$ est l'investissement initial.)\n"
   ]
  },
  {
   "cell_type": "code",
   "execution_count": null,
   "metadata": {},
   "outputs": [],
   "source": [
    "# Sandbox for testing code\n"
   ]
  },
  {
   "cell_type": "code",
   "execution_count": 13,
   "metadata": {},
   "outputs": [],
   "source": [
    "# 1. Écrire une fonction `average` qui prend une liste d'entiers en entrée et renvoie la moyenne de ces entiers.\n"
   ]
  },
  {
   "cell_type": "code",
   "execution_count": null,
   "metadata": {},
   "outputs": [],
   "source": [
    "# 🧪\n",
    "ipytest.clean()\n",
    "def test_average():\n",
    "    assert average([1, 2, 3]) == 2\n",
    "    assert average([1, 2, 3, 4]) == 2.5\n",
    "    assert average([10, 20]) == 15\n",
    "    assert average([10]) == 10\n",
    "    assert average([0]) == 0\n",
    "    assert average([0, 0, 0, 1]) == 0.25\n",
    "ipytest.run()"
   ]
  },
  {
   "cell_type": "code",
   "execution_count": 16,
   "metadata": {},
   "outputs": [],
   "source": [
    "# 2. Écrire une fonction `convert_to_net_wages` qui prend une liste de salaires bruts en entrée et renvoie une liste de salaires nets. Le salaire net est calculé en déduisant 23% du salaire brut.\n"
   ]
  },
  {
   "cell_type": "code",
   "execution_count": null,
   "metadata": {},
   "outputs": [],
   "source": [
    "# 🧪\n",
    "ipytest.clean()\n",
    "def test_convert_to_net_wages():\n",
    "    assert convert_to_net_wages([1000, 2000, 3000]) == [770, 1540, 2310]\n",
    "    assert convert_to_net_wages([1000]) == [770]\n",
    "    assert convert_to_net_wages([0]) == [0]\n",
    "    assert convert_to_net_wages([1000, 2000, 3000, 4000]) == [770, 1540, 2310, 3080]\n",
    "ipytest.run()"
   ]
  },
  {
   "cell_type": "code",
   "execution_count": 18,
   "metadata": {},
   "outputs": [],
   "source": [
    "# 3. Écrire une fonction `remove_duplicates` qui prend une liste en entrée et renvoie une nouvelle liste sans éléments en double. L'ordre des éléments doit être conservé. La liste initiale ne doit pas être modifiée.\n"
   ]
  },
  {
   "cell_type": "code",
   "execution_count": null,
   "metadata": {},
   "outputs": [],
   "source": [
    "# 🧪\n",
    "ipytest.clean()\n",
    "def test_remove_duplicates():\n",
    "    assert remove_duplicates([1, 2, 3]) == [1, 2, 3]\n",
    "    assert remove_duplicates([1, 1, 2, 2, 3, 3]) == [1, 2, 3]\n",
    "    assert remove_duplicates([1, 2, 1, 3, 1, 4]) == [1, 2, 3, 4]\n",
    "    assert remove_duplicates([1, 1, 1, 1, 1]) == [1]\n",
    "ipytest.run()"
   ]
  },
  {
   "cell_type": "code",
   "execution_count": null,
   "metadata": {},
   "outputs": [],
   "source": [
    "# 4. Écrire une fonction `common_elements` qui prend deux listes en entrée et renvoie une liste contenant les éléments communs aux deux listes.\n"
   ]
  },
  {
   "cell_type": "code",
   "execution_count": null,
   "metadata": {},
   "outputs": [],
   "source": [
    "# 🧪\n",
    "ipytest.clean()\n",
    "def test_common_elements():\n",
    "    assert common_elements([1, 2, 3], [3, 4, 5]) == [3]\n",
    "    assert common_elements([1, 2, 3], [4, 5, 6]) == []\n",
    "    assert common_elements([1, 2, 3], [1, 2, 3]) == [1, 2, 3]\n",
    "    assert common_elements([1, 2, 3], [1, 2, 3, 4]) == [1, 2, 3]\n",
    "    assert common_elements([1, 2, 3], [4, 5, 6, 1]) == [1]\n",
    "ipytest.run()"
   ]
  },
  {
   "cell_type": "markdown",
   "metadata": {},
   "source": [
    "5. Écrire une fonction `net_present_value(initial_investment, cashflows, rate)` qui calcule la valeur actuelle nette d'un projet. La valeur actuelle nette est calculée en soustrayant l'investissement initial de la somme des cashflows actualisés. Vous pouvez supposer que les cashflows sont donnés sous forme de liste (ex: `[800, 1200, 300]`) et que le taux d'actualisation est un nombre décimal (ex: `0.1` pour 10%)."
   ]
  },
  {
   "cell_type": "code",
   "execution_count": 23,
   "metadata": {},
   "outputs": [],
   "source": [
    "# 5. Écrire une fonction `net_present_value(initial_investment, cashflows, rate)` qui calcule la valeur actuelle nette d'un projet. La valeur actuelle nette est calculée en soustrayant l'investissement initial de la somme des cashflows actualisés. Vous pouvez supposer que les cashflows sont donnés sous forme de liste (ex: `[800, 1200, 300]`) et que le taux d'actualisation est un nombre décimal (ex: `0.1` pour 10%).\n"
   ]
  },
  {
   "cell_type": "markdown",
   "metadata": {},
   "source": [
    "ℹ️ La valeur actuelle nette est calculée comme suit : $NPV = \\sum_{i=1}^{n} \\frac{CF_i}{(1+r)^i} - I$ où $CF_i$ est le cashflow à l'année $i$, $r$ est le taux d'actualisation et $I$ est l'investissement initial."
   ]
  },
  {
   "cell_type": "code",
   "execution_count": null,
   "metadata": {},
   "outputs": [],
   "source": [
    "# 🧪\n",
    "import math\n",
    "ipytest.clean()\n",
    "def test_net_present_value():\n",
    "    assert math.isclose(net_present_value(1000, [100, 200, 300, 400], 0.1), -245.20, rel_tol=1e-5)\n",
    "    assert math.isclose(net_present_value(1000, [100, 200, 300, 400], 0.05), -135.12, rel_tol=1e-4)\n",
    "    assert net_present_value(1000, [100, 200, 300, 400], 0) == 0\n",
    "    assert math.isclose(net_present_value(1000, [100, 200, 300, 400, 500], 0.05), 256.64, rel_tol=1e-5)\n",
    "ipytest.run()"
   ]
  }
 ],
 "metadata": {
  "kernelspec": {
   "display_name": "Python 3",
   "language": "python",
   "name": "python3"
  },
  "language_info": {
   "codemirror_mode": {
    "name": "ipython",
    "version": 3
   },
   "file_extension": ".py",
   "mimetype": "text/x-python",
   "name": "python",
   "nbconvert_exporter": "python",
   "pygments_lexer": "ipython3",
   "version": "3.11.5"
  }
 },
 "nbformat": 4,
 "nbformat_minor": 2
}
