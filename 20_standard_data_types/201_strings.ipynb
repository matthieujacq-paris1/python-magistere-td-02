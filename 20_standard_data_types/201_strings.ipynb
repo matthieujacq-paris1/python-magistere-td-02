{
 "cells": [
  {
   "cell_type": "markdown",
   "metadata": {},
   "source": [
    "> ### Vérification de la configuration\n",
    "> Vérifiez que Python et les tests fonctionnent correctement en exécutant les deux cellules ci-dessous."
   ]
  },
  {
   "cell_type": "code",
   "execution_count": null,
   "metadata": {},
   "outputs": [],
   "source": [
    "print(\"✅ Python works!\")\n",
    "from sys import version\n",
    "print(version)"
   ]
  },
  {
   "cell_type": "code",
   "execution_count": null,
   "metadata": {},
   "outputs": [],
   "source": [
    "import ipytest\n",
    "ipytest.autoconfig()\n",
    "ipytest.clean()\n",
    "def test_all_good():\n",
    "    assert \"🐍\" == \"🐍\"\n",
    "ipytest.run()"
   ]
  },
  {
   "cell_type": "markdown",
   "metadata": {},
   "source": [
    "# Les chaînes de caractères en Python\n",
    "\n",
    "> **Class: `str`**\n",
    "\n",
    "### Les chaînes de caractères standard\n",
    "\n",
    "Les chaînes de caractères sont des séquences de caractères. En Python, les chaînes de caractères sont délimitées par des guillemets simples (`'`) ou doubles (`\"`). Par exemple, `'hello'` et `\"hello\"` sont des chaînes de caractères.\n",
    "\n",
    "### Les f-strings\n",
    "\n",
    "Nous avons aussi déjà vu les `f-string` qui permettent d'insérer des variables dans une chaîne de caractères. Par exemple, si vous avez une variable `name` qui contient une chaîne de caractères, vous pouvez l'insérer dans une autre chaîne de caractères en utilisant l'expression `f\"Hello, {name}\"`.\n",
    "\n",
    "### Les multi-line strings\n",
    "\n",
    "Il existe enfin une autre manière de créer des chaînes de caractères en utilisant la syntaxe `\"\"\"` ou `'''`. Cela permet de créer des chaînes de caractères sur plusieurs lignes.\n",
    "\n",
    "```python\n",
    "message = \"\"\"This is a\n",
    "multi-line string.\"\"\"\n",
    "print(message)\n",
    "```\n",
    "\n",
    "### Les caractères d'échappement\n",
    "\n",
    "Il existe des caractères spéciaux qui ne peuvent pas être affichés directement dans une chaîne de caractères. Par exemple, si vous voulez afficher une nouvelle ligne dans une chaîne de caractères, vous pouvez utiliser le caractère d'échappement `\\n`. Voici quelques caractères d'échappement courants :\n",
    "- `\\n` : nouvelle ligne\n",
    "- `\\t` : tabulation\n",
    "- `\\\\` : antislash\n",
    "- `\\'` : guillemet simple\n",
    "- `\\\"` : guillemet double\n",
    "\n",
    "> **Tip**: Vous pouvez utiliser des guillemets simples à l'intérieur d'une chaîne de caractères délimitée par des guillemets doubles et vice versa. Si vous avez besoin d'utiliser les deux types de guillemets à l'intérieur d'une chaîne de caractères, vous pouvez utiliser des guillemets triples (`'''` ou `\"\"\"`) pour délimiter la chaîne de caractères. En dernier recours, vous pouvez utiliser des caractères d'échappement pour insérer des guillemets dans une chaîne de caractères.\n",
    "\n",
    "Exemple :\n",
    "\n",
    "```python\n",
    "print(\"First Line.\\nSecond Line.\") # Affiche :\n",
    "# First Line.\n",
    "# Second Line.\n",
    "print('''First Line.\n",
    "Second Line.''') # Affiche :\n",
    "# First Line.\n",
    "# Second Line.\n",
    "\n",
    "print('''I'm learning \"Python\".''') # I'm learning \"Python\".\n",
    "print(\"I'm learning \\\"Python\\\".\") # I'm learning \"Python\".\n",
    "```\n",
    "\n",
    "### Les opérations sur les chaînes de caractères\n",
    "\n",
    "Il existe plusieurs opérations que vous pouvez effectuer sur les chaînes de caractères en Python. Les deux opérations les plus courantes sont la concaténation et le calcul de la longueur.\n",
    "\n",
    "- `+` pour **concaténer** des chaînes : Vous pouvez combiner deux chaînes de caractères en les ajoutant ensemble. Par exemple, `\"Hello, \" + \"world!\"` renvoie `\"Hello, world!\"`.\n",
    "- `in` pour :\n",
    "    - **Vérifier de l'appartenance** d'une sous-chaîne : Par exemple, `\"world\" in \"Hello, world!\"` renvoie `True`. On peut aussi vérifier l'absence d'une sous-chaîne en utilisant `not in`. Par exemple, `\"world\" not in \"Hello, world!\"` renvoie `False`.\n",
    "    - **Parcourir** la chaîne : Vous pouvez parcourir les caractères d'une chaîne de caractères en utilisant une boucle `for`. Par exemple, `for char in \"Hello\": print(char)` affiche chaque lettre de la chaîne de caractères sur une ligne séparée.\n",
    "- `==`, `!=`, `<`, `>`, `<=`, `>=` pour **comparer** : Les chaînes de caractères sont comparées en fonction de leur ordre lexicographique. (Ex: `\"apple\" < \"banana\"` renvoie `True`. Notez que les lettres majuscules sont considérées comme inférieures aux lettres minuscules donc `\"apple\" < \"Banana\"` renvoie `False`.)\n",
    "- `[index]` pour **accéder à un caractère** : Vous pouvez accéder à un caractère spécifique dans une chaîne de caractères en utilisant un index. Par exemple, `\"Hello\"[0]` renvoie `\"H\"`.\n",
    "- `[start:end]` pour **extraire une sous-chaîne** entre `start` et `end-1` . Par exemple, `\"Hello\"[1:4]` renvoie `\"ell\"`. (Notez que la borne supérieure est exclusive en Python.)\n",
    "\n",
    "Exemple :\n",
    "\n",
    "```python\n",
    "print(\"Hello, \" + \"world!\" == \"Hello, world!\") # True\n",
    "print(len(\"Hello\")) # 5\n",
    "print(\"world\" in \"Hello, world!\") # True\n",
    "print(\"World\" in \"Hello, world!\") # False\n",
    "for char in \"123\":\n",
    "    print(char)\n",
    "# 1\n",
    "# 2\n",
    "# 3\n",
    "print(\"apple\" < \"banana\") # True\n",
    "print(\"apple\" < \"Banana\") # False\n",
    "print(\"Hello\"[0]) # H\n",
    "print(\"Hello\"[4]) # o\n",
    "print(\"Hello\"[1:4]) # ell\n",
    "```\n",
    "\n",
    "> Facultatif: Il existe également d'autres opérations que vous pouvez effectuer sur les chaînes de caractères en Python :\n",
    ">\n",
    "> - Répétition : Vous pouvez répéter une chaîne de caractères en la multipliant par un nombre entier. Par exemple, `\"Hello, \" * 3` renvoie `\"Hello, Hello, Hello, \"`.\n",
    "\n",
    "### Les fonctions intégrées pour les chaînes de caractères\n",
    "\n",
    "Il existe plusieurs fonctions intégrées que vous pouvez utiliser pour manipuler les chaînes de caractères en Python. Voici quelques-unes des fonctions les plus courantes :\n",
    "- **`str()`** : Convertit un objet en une chaîne de caractères. Par exemple, `str(123)` renvoie `\"123\"`.\n",
    "- **`int()`** : Convertit une chaîne de caractères en un entier. Par exemple, `int(\"123\")` renvoie `123`.\n",
    "- **`float()`** : Convertit une chaîne de caractères en un nombre à virgule flottante. Par exemple, `float(\"123.45\")` renvoie `123.45`.\n",
    "- **len()** : Renvoie la longueur d'une chaîne de caractères. Par exemple, `len(\"Hello\")` renvoie `5`.\n",
    "\n",
    "\n",
    "### Les méthodes de chaînes de caractères\n",
    "\n",
    "Il existe de nombreuses méthodes intégrées que vous pouvez utiliser pour manipuler les chaînes de caractères en Python. Voici quelques-unes des méthodes les plus courantes :\n",
    "\n",
    "- **`.upper()`** : Convertit une chaîne de caractères en majuscules.\n",
    "- **`.lower()`** : Convertit une chaîne de caractères en minuscules.\n",
    "- **`.capitalize()`** : Convertit la première lettre d'une chaîne de caractères en majuscule.\n",
    "- **`.title()`** : Convertit une chaîne de caractères en majuscule au début de chaque mot.\n",
    "- **`.strip()`** : Supprime les espaces blancs au début et à la fin d'une chaîne de caractères.\n",
    "- **`.replace(old, new)`** : Remplace une sous-chaîne par une autre sous-chaîne dans une chaîne de caractères.\n",
    "\n",
    "Utilisation des méthodes :\n",
    "\n",
    "```python\n",
    "message = \"Hello, world!\"\n",
    "print(message.upper()) # HELLO, WORLD!\n",
    "print(message.lower()) # hello, world!\n",
    "print(message.capitalize()) # Hello, world!\n",
    "print(\"hello, world!\".title()) # Hello, World!\n",
    "\n",
    "message = \"  Hello, world!  \"\n",
    "print(message.strip()) # Hello, world!\n",
    "print(message.replace(\"world\", \"Python\")) # Hello, Python!\n",
    "```\n",
    "\n",
    "> **⚠️**: Les chaînes de caractères sont des objets immuables, ce qui signifie qu'elles ne peuvent pas être modifiées après avoir été créées. Ainsi, si vous souhaitez modifier une chaîne de caractères, vous devez créer une nouvelle chaîne de caractères ou réassigner la nouvelle chaîne de caractères à la variable.\n",
    "\n",
    "Ainsi :\n",
    "```python\n",
    "message = \"hello, world!\"\n",
    "message.replace(\"world\", \"Python\")\n",
    "print(message) # hello, world!\n",
    "message = message.replace(\"world\", \"Python\") # Réassignation\n",
    "print(message) # hello, Python!\n",
    "```\n",
    "\n",
    "# Exercices\n",
    "\n",
    "1. Créez une fonction `shortest_string(s1, s2)` qui prend deux chaînes de caractères en entrée et renvoie la plus courte des deux chaînes de caractères. Si les deux chaînes de caractères ont la même longueur, la fonction doit renvoyer la première chaîne de caractères. Par exemple, `shortest_string(\"hi\", \"world\")` doit renvoyer `\"hi\"` et `shortest_string(\"banana\", \"split\")` doit renvoyer `\"split\"`.\n",
    "2. Créez une fonction `smaller_lexicographically(s1, s2)` qui prend deux chaînes de caractères en entrée et renvoie la chaîne de caractères qui est inférieure lexicographiquement. Par exemple, `smaller_lexicographically(\"hello\", \"world\")` doit renvoyer `\"hello\"` et `smaller_lexicographically(\"hello\", \"banana\")` doit renvoyer `\"banana\"`.\n",
    "3. Créer une fonction `smaller_lexicographically_ignore_case(s1, s2)` qui prend deux chaînes de caractères en entrée et renvoie la chaîne de caractères qui est inférieure lexicographiquement en ignorant la casse. Par exemple, `smaller_lexicographically_ignore_case(\"hello\", \"World\")` doit renvoyer `\"hello\"`.\n",
    "4. Écrivez une fonction `has_vowels` qui prend une chaîne de caractères en entrée et renvoie `True` si la chaîne de caractères contient au moins une voyelle (a, e, i, o, u, y, A, E, I, O, U, Y) et `False` sinon. Par exemple, `has_vowels(\"hello\")` doit renvoyer `True` et `has_vowels(\"txt\")` doit renvoyer `False`.\n"
   ]
  },
  {
   "cell_type": "code",
   "execution_count": null,
   "metadata": {},
   "outputs": [],
   "source": [
    "# 👨‍💻 Sandbox: sentez-vous libre de tester des choses ici\n"
   ]
  },
  {
   "cell_type": "code",
   "execution_count": 11,
   "metadata": {},
   "outputs": [],
   "source": [
    "# 1. Créez une fonction `shortest_string(s1, s2)` qui prend deux chaînes de caractères en entrée et renvoie la plus courte des deux chaînes de caractères. Si les deux chaînes de caractères ont la même longueur, la fonction doit renvoyer la première chaîne de caractères. Par exemple, `shortest_string(\"hi\", \"world\")` doit renvoyer `\"hi\"` et `shortest_string(\"banana\", \"split\")` doit renvoyer `\"split\"`.\n"
   ]
  },
  {
   "cell_type": "code",
   "execution_count": null,
   "metadata": {},
   "outputs": [],
   "source": [
    "# 🧪\n",
    "ipytest.clean()\n",
    "def test_shortest_string():\n",
    "    assert shortest_string(\"hi\", \"world\") == \"hi\"\n",
    "    assert shortest_string(\"banana\", \"split\") == \"split\"\n",
    "    assert shortest_string(\"hello\", \"world\") == \"hello\"\n",
    "    assert shortest_string(\"world\", \"hello\") == \"world\"\n",
    "ipytest.run()"
   ]
  },
  {
   "cell_type": "code",
   "execution_count": 15,
   "metadata": {},
   "outputs": [],
   "source": [
    "# 2. Créez une fonction `smaller_lexicographically(s1, s2)` qui prend deux chaînes de caractères en entrée et renvoie la chaîne de caractères qui est inférieure lexicographiquement. Par exemple, `smaller_lexicographically(\"hello\", \"world\")` doit renvoyer `\"hello\"` et `smaller_lexicographically(\"hello\", \"banana\")` doit renvoyer `\"banana\"`.\n"
   ]
  },
  {
   "cell_type": "code",
   "execution_count": null,
   "metadata": {},
   "outputs": [],
   "source": [
    "# 🧪\n",
    "ipytest.clean()\n",
    "def test_smaller_lexicographically():\n",
    "    assert smaller_lexicographically(\"hello\", \"world\") == \"hello\"\n",
    "    assert smaller_lexicographically(\"hello\", \"banana\") == \"banana\"\n",
    "    assert smaller_lexicographically(\"world\", \"hello\") == \"hello\"\n",
    "    assert smaller_lexicographically(\"banana\", \"hello\") == \"banana\"\n",
    "    assert smaller_lexicographically(\"Hello\", \"hello\") == \"Hello\"\n",
    "    assert smaller_lexicographically(\"hello\", \"Hello\") == \"Hello\"\n",
    "    assert smaller_lexicographically(\"Hello\", \"banana\") == \"Hello\"\n",
    "    assert smaller_lexicographically(\"banana\", \"Hello\") == \"Hello\"\n",
    "ipytest.run()"
   ]
  },
  {
   "cell_type": "code",
   "execution_count": 18,
   "metadata": {},
   "outputs": [],
   "source": [
    "# 3. Créer une fonction `smaller_lexicographically_ignore_case(s1, s2)` qui prend deux chaînes de caractères en entrée et renvoie la chaîne de caractères qui est inférieure lexicographiquement en ignorant la casse. Par exemple, `smaller_lexicographically_ignore_case(\"hello\", \"World\")` doit renvoyer `\"hello\"`.\n"
   ]
  },
  {
   "cell_type": "code",
   "execution_count": null,
   "metadata": {},
   "outputs": [],
   "source": [
    "# 🧪\n",
    "ipytest.clean()\n",
    "def test_smaller_lexicographically_ignore_case():\n",
    "    assert smaller_lexicographically_ignore_case(\"hello\", \"World\") == \"hello\"\n",
    "    assert smaller_lexicographically_ignore_case(\"World\", \"hello\") == \"hello\"\n",
    "    assert smaller_lexicographically_ignore_case(\"Hello\", \"world\") == \"Hello\"\n",
    "    assert smaller_lexicographically_ignore_case(\"world\", \"Hello\") == \"Hello\"\n",
    "    assert smaller_lexicographically_ignore_case(\"Hello\", \"WORLD\") == \"Hello\"\n",
    "    assert smaller_lexicographically_ignore_case(\"hello\", \"world\") == \"hello\"\n",
    "    assert smaller_lexicographically_ignore_case(\"world\", \"hello\") == \"hello\"\n",
    "    assert smaller_lexicographically_ignore_case(\"hello\", \"hello\") == \"hello\"\n",
    "    assert smaller_lexicographically_ignore_case(\"Hello\", \"banana\") == \"banana\"\n",
    "ipytest.run()"
   ]
  },
  {
   "cell_type": "code",
   "execution_count": 24,
   "metadata": {},
   "outputs": [],
   "source": [
    "# 4. Écrivez une fonction `has_vowels` qui prend une chaîne de caractères en entrée et renvoie `True` si la chaîne de caractères contient au moins une voyelle (a, e, i, o, u, y, A, E, I, O, U, Y) et `False` sinon. Par exemple, `has_vowels(\"hello\")` doit renvoyer `True` et `has_vowels(\"txt\")` doit renvoyer `False`.\n"
   ]
  },
  {
   "cell_type": "code",
   "execution_count": null,
   "metadata": {},
   "outputs": [],
   "source": [
    "# 🧪\n",
    "ipytest.clean()\n",
    "def test_has_vowels():\n",
    "    assert has_vowels(\"all\") == True\n",
    "    assert has_vowels(\"txt\") == False\n",
    "    assert has_vowels(\"bell\") == True\n",
    "    assert has_vowels(\"bll\") == False\n",
    "    assert has_vowels(\"bllA\") == True\n",
    "    assert has_vowels(\"bllB\") == False\n",
    "    assert has_vowels(\"blob\") == True\n",
    "    assert has_vowels(\"bulb\") == True\n",
    "    assert has_vowels(\"XYZ\") == True\n",
    "    assert has_vowels(\"\") == False\n",
    "ipytest.run()"
   ]
  }
 ],
 "metadata": {
  "kernelspec": {
   "display_name": "Python 3",
   "language": "python",
   "name": "python3"
  },
  "language_info": {
   "codemirror_mode": {
    "name": "ipython",
    "version": 3
   },
   "file_extension": ".py",
   "mimetype": "text/x-python",
   "name": "python",
   "nbconvert_exporter": "python",
   "pygments_lexer": "ipython3",
   "version": "3.11.5"
  }
 },
 "nbformat": 4,
 "nbformat_minor": 2
}
